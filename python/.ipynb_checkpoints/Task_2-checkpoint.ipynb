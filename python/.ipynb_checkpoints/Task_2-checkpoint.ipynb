{
 "cells": [
  {
   "cell_type": "code",
   "execution_count": 1,
   "id": "45cdcebc",
   "metadata": {},
   "outputs": [],
   "source": [
    "import json\n",
    "import os \n",
    "totalFile=os.listdir('./data')\n",
    "totalAddedFiles=[]\n",
    "for fileName in totalFile:\n",
    "    file=open('data/'+fileName)\n",
    "    data=json.load(file)\n",
    "    index=0\n",
    "    for object in data['objects']:\n",
    "        if(object['classTitle']=='Vehicle'):\n",
    "            data['objects'][index]['classTitle']='Car'\n",
    "        if(object['classTitle']=='License Plate'):\n",
    "            data['objects'][index]['classTitle']='Number'\n",
    "        index+=1\n",
    "    totalAddedFiles.append(data)\n",
    "with open('totalAdded.json', \"w\") as file:\n",
    "        json.dump(totalAddedFiles,file)"
   ]
  },
  {
   "cell_type": "code",
   "execution_count": null,
   "id": "544a6bf9",
   "metadata": {},
   "outputs": [],
   "source": []
  }
 ],
 "metadata": {
  "kernelspec": {
   "display_name": "Python 3 (ipykernel)",
   "language": "python",
   "name": "python3"
  },
  "language_info": {
   "codemirror_mode": {
    "name": "ipython",
    "version": 3
   },
   "file_extension": ".py",
   "mimetype": "text/x-python",
   "name": "python",
   "nbconvert_exporter": "python",
   "pygments_lexer": "ipython3",
   "version": "3.11.3"
  }
 },
 "nbformat": 4,
 "nbformat_minor": 5
}
