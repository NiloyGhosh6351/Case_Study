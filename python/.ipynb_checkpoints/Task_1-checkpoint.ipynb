{
 "cells": [
  {
   "cell_type": "markdown",
   "id": "b0fccb17",
   "metadata": {},
   "source": [
    "# IMPORT DATA"
   ]
  },
  {
   "cell_type": "code",
   "execution_count": 5,
   "id": "683b1c6a",
   "metadata": {},
   "outputs": [
    {
     "data": {
      "text/plain": [
       "3"
      ]
     },
     "execution_count": 5,
     "metadata": {},
     "output_type": "execute_result"
    }
   ],
   "source": [
    "import os \n",
    "totalFile=os.listdir('./data')\n",
    "totalFormatted=[]\n",
    "len(totalFile)"
   ]
  },
  {
   "cell_type": "code",
   "execution_count": 10,
   "id": "88975be3",
   "metadata": {},
   "outputs": [
    {
     "ename": "IndexError",
     "evalue": "list index out of range",
     "output_type": "error",
     "traceback": [
      "\u001b[1;31m---------------------------------------------------------------------------\u001b[0m",
      "\u001b[1;31mIndexError\u001b[0m                                Traceback (most recent call last)",
      "Cell \u001b[1;32mIn[10], line 42\u001b[0m\n\u001b[0;32m     39\u001b[0m         formated_String[\u001b[38;5;124m'\u001b[39m\u001b[38;5;124mannotation_objects\u001b[39m\u001b[38;5;124m'\u001b[39m][\u001b[38;5;124m'\u001b[39m\u001b[38;5;124mvehicle\u001b[39m\u001b[38;5;124m'\u001b[39m][\u001b[38;5;124m'\u001b[39m\u001b[38;5;124mbbox\u001b[39m\u001b[38;5;124m'\u001b[39m]\u001b[38;5;241m.\u001b[39mappend(i)\n\u001b[0;32m     41\u001b[0m \u001b[38;5;28;01mfor\u001b[39;00m j \u001b[38;5;129;01min\u001b[39;00m \u001b[38;5;28mrange\u001b[39m(\u001b[38;5;241m2\u001b[39m):\n\u001b[1;32m---> 42\u001b[0m     \u001b[38;5;28;01mfor\u001b[39;00m i \u001b[38;5;129;01min\u001b[39;00m \u001b[43mdata\u001b[49m\u001b[43m[\u001b[49m\u001b[38;5;124;43m'\u001b[39;49m\u001b[38;5;124;43mobjects\u001b[39;49m\u001b[38;5;124;43m'\u001b[39;49m\u001b[43m]\u001b[49m\u001b[43m[\u001b[49m\u001b[38;5;241;43m1\u001b[39;49m\u001b[43m]\u001b[49m[\u001b[38;5;124m'\u001b[39m\u001b[38;5;124mpoints\u001b[39m\u001b[38;5;124m'\u001b[39m][\u001b[38;5;124m'\u001b[39m\u001b[38;5;124mexterior\u001b[39m\u001b[38;5;124m'\u001b[39m][j]:\n\u001b[0;32m     43\u001b[0m         formated_String[\u001b[38;5;124m'\u001b[39m\u001b[38;5;124mannotation_objects\u001b[39m\u001b[38;5;124m'\u001b[39m][\u001b[38;5;124m'\u001b[39m\u001b[38;5;124mlicense_plate\u001b[39m\u001b[38;5;124m'\u001b[39m][\u001b[38;5;124m'\u001b[39m\u001b[38;5;124mbbox\u001b[39m\u001b[38;5;124m'\u001b[39m]\u001b[38;5;241m.\u001b[39mappend(i)\n\u001b[0;32m     44\u001b[0m \u001b[38;5;28;01mfor\u001b[39;00m i \u001b[38;5;129;01min\u001b[39;00m data[\u001b[38;5;124m'\u001b[39m\u001b[38;5;124mobjects\u001b[39m\u001b[38;5;124m'\u001b[39m][\u001b[38;5;241m0\u001b[39m][\u001b[38;5;124m'\u001b[39m\u001b[38;5;124mtags\u001b[39m\u001b[38;5;124m'\u001b[39m]:\n",
      "\u001b[1;31mIndexError\u001b[0m: list index out of range"
     ]
    }
   ],
   "source": [
    "import json\n",
    "import os \n",
    "from pprint import pprint\n",
    "totalFile=os.listdir('./data')\n",
    "totalFormatted=[]\n",
    "for fileName in totalFile:\n",
    "    file=open('data/'+fileName)\n",
    "    data=json.load(file)\n",
    "\n",
    "    formated_String={ \"dataset_name\": \"pos_0.png.json\",\n",
    "            \"image_link\": \"\",\n",
    "            \"annotation_type\": \"image\",\n",
    "            \"annotation_objects\": {\n",
    "                \"vehicle\": {\n",
    "                    \"presence\": 0,\n",
    "                    \"bbox\": []\n",
    "                },\n",
    "                \"license_plate\": {\n",
    "                    \"presence\": 0,\n",
    "                    \"bbox\": []\n",
    "                }\n",
    "            },\n",
    "            \"annotation_attributes\": {\n",
    "                \"vehicle\": {\n",
    "                    \"Type\": None,\n",
    "                    \"Pose\": None,\n",
    "                    \"Model\": None,\n",
    "                    \"Make\": None,\n",
    "                    \"Color\": None\n",
    "                },\n",
    "                \"license_plate\": {\n",
    "                    \"Difficulty Score\": None,\n",
    "                    \"Value\": None,\n",
    "                    \"Occlusion\": None\n",
    "                }\n",
    "            }}\n",
    "    if len(data['objects'])>0:\n",
    "        for j in range(2):\n",
    "            for i in data['objects'][0]['points']['exterior'][j]:\n",
    "                formated_String['annotation_objects']['vehicle']['bbox'].append(i)\n",
    "        for i in data['objects'][0]['tags']:\n",
    "            formated_String['annotation_attributes']['vehicle'][i['name']]=i['value']\n",
    "    \n",
    "    if len(data['objects'])>1:\n",
    "        for j in range(2):\n",
    "            for i in data['objects'][1]['points']['exterior'][j]:\n",
    "                formated_String['annotation_objects']['license_plate']['bbox'].append(i)\n",
    "        for i in data['objects'][1]['tags']:\n",
    "            formated_String['annotation_attributes']['license_plate'][i['name']]=i['value']\n",
    "    vehicleFlag=False\n",
    "    licensePlateFlag=False\n",
    "    for i in data['objects']:\n",
    "        if i['classTitle']=='Vehicle':\n",
    "            vehicleFlag=True\n",
    "        if i['classTitle']=='License Plate':\n",
    "            licensePlateFlag=True\n",
    "    if vehicleFlag:\n",
    "        formated_String['annotation_objects']['vehicle']['presence']=1\n",
    "    if licensePlateFlag:\n",
    "        formated_String['annotation_objects']['license_plate']['presence']=1\n",
    "    totalFormatted.append(formated_String)"
   ]
  },
  {
   "cell_type": "code",
   "execution_count": null,
   "id": "c099ba2c",
   "metadata": {},
   "outputs": [],
   "source": [
    "import json\n",
    "file=open('pos_0.png.json')\n",
    "data=json.load(file)"
   ]
  },
  {
   "cell_type": "markdown",
   "id": "fc36a3bb",
   "metadata": {},
   "source": [
    "# Creating formatted Json"
   ]
  },
  {
   "cell_type": "code",
   "execution_count": 2,
   "id": "b49e5560",
   "metadata": {},
   "outputs": [],
   "source": [
    "formated_String={ \"dataset_name\": \"pos_0.png.json\",\n",
    "        \"image_link\": \"\",\n",
    "        \"annotation_type\": \"image\",\n",
    "        \"annotation_objects\": {\n",
    "            \"vehicle\": {\n",
    "                \"presence\": 0,\n",
    "                \"bbox\": []\n",
    "            },\n",
    "            \"license_plate\": {\n",
    "                \"presence\": 0,\n",
    "                \"bbox\": []\n",
    "            }\n",
    "        },\n",
    "        \"annotation_attributes\": {\n",
    "            \"vehicle\": {\n",
    "                \"Type\": None,\n",
    "                \"Pose\": None,\n",
    "                \"Model\": None,\n",
    "                \"Make\": None,\n",
    "                \"Color\": None\n",
    "            },\n",
    "            \"license_plate\": {\n",
    "                \"Difficulty Score\": None,\n",
    "                \"Value\": None,\n",
    "                \"Occlusion\": None\n",
    "            }\n",
    "        }}\n"
   ]
  },
  {
   "cell_type": "markdown",
   "id": "6e6470f2",
   "metadata": {},
   "source": [
    "# BBOX FOR VEHICLE"
   ]
  },
  {
   "cell_type": "code",
   "execution_count": 3,
   "id": "54727258",
   "metadata": {},
   "outputs": [],
   "source": [
    "for j in range(2):\n",
    "    for i in data['objects'][0]['points']['exterior'][j]:\n",
    "        formated_String['annotation_objects']['vehicle']['bbox'].append(i)\n"
   ]
  },
  {
   "cell_type": "markdown",
   "id": "703f63c3",
   "metadata": {},
   "source": [
    "# BBOX FOR LICENSE PLATE"
   ]
  },
  {
   "cell_type": "code",
   "execution_count": 4,
   "id": "ad626233",
   "metadata": {},
   "outputs": [],
   "source": [
    "for j in range(2):\n",
    "    for i in data['objects'][1]['points']['exterior'][j]:\n",
    "        formated_String['annotation_objects']['license_plate']['bbox'].append(i)"
   ]
  },
  {
   "cell_type": "markdown",
   "id": "d2801945",
   "metadata": {},
   "source": [
    "# ADDING VEHICLE TAGS"
   ]
  },
  {
   "cell_type": "code",
   "execution_count": 5,
   "id": "ae8a49ad",
   "metadata": {},
   "outputs": [],
   "source": [
    "for i in data['objects'][0]['tags']:\n",
    "    formated_String['annotation_attributes']['vehicle'][i['name']]=i['value']"
   ]
  },
  {
   "cell_type": "markdown",
   "id": "07d5d8f9",
   "metadata": {},
   "source": [
    "# ADDING LICENSE PLATE TAGS"
   ]
  },
  {
   "cell_type": "code",
   "execution_count": 6,
   "id": "5397e56d",
   "metadata": {},
   "outputs": [],
   "source": [
    "for i in data['objects'][1]['tags']:\n",
    "    formated_String['annotation_attributes']['license_plate'][i['name']]=i['value']"
   ]
  },
  {
   "cell_type": "markdown",
   "id": "b238d450",
   "metadata": {},
   "source": [
    "# ADDING PRESENCE"
   ]
  },
  {
   "cell_type": "code",
   "execution_count": 7,
   "id": "eae113d9",
   "metadata": {},
   "outputs": [],
   "source": [
    "vehicleFlag=False\n",
    "licensePlateFlag=False\n",
    "for i in data['objects']:\n",
    "    if i['classTitle']=='Vehicle':\n",
    "        vehicleFlag=True\n",
    "    if i['classTitle']=='License Plate':\n",
    "        licensePlateFlag=True\n",
    "if vehicleFlag:\n",
    "    formated_String['annotation_objects']['vehicle']['presence']=1\n",
    "if licensePlateFlag:\n",
    "    formated_String['annotation_objects']['license_plate']['presence']=1"
   ]
  },
  {
   "cell_type": "code",
   "execution_count": 8,
   "id": "c3fda5d7",
   "metadata": {},
   "outputs": [
    {
     "name": "stdout",
     "output_type": "stream",
     "text": [
      "{'annotation_attributes': {'license_plate': {'Difficulty Score': '0',\n",
      "                                             'Occlusion': None,\n",
      "                                             'Value': 'CA, 7LVS119'},\n",
      "                           'vehicle': {'Color': 'Silver',\n",
      "                                       'Make': 'Lexus',\n",
      "                                       'Model': 'UN',\n",
      "                                       'Pose': 'Rear',\n",
      "                                       'Type': 'SUV'}},\n",
      " 'annotation_objects': {'license_plate': {'bbox': [535, 158, 622, 213],\n",
      "                                          'presence': 1},\n",
      "                        'vehicle': {'bbox': [396, 3, 773, 314], 'presence': 1}},\n",
      " 'annotation_type': 'image',\n",
      " 'dataset_name': 'pos_0.png.json',\n",
      " 'image_link': ''}\n"
     ]
    }
   ],
   "source": [
    "from pprint import pprint\n",
    "pprint(formated_String)"
   ]
  },
  {
   "cell_type": "code",
   "execution_count": 13,
   "id": "57a9b325",
   "metadata": {},
   "outputs": [
    {
     "data": {
      "text/plain": [
       "['pos_0.png.json', 'pos_10010.png.json', 'pos_10492.png.json']"
      ]
     },
     "execution_count": 13,
     "metadata": {},
     "output_type": "execute_result"
    }
   ],
   "source": [
    "import os \n",
    "os.listdir('./data')"
   ]
  },
  {
   "cell_type": "code",
   "execution_count": null,
   "id": "d0ea1f1c",
   "metadata": {},
   "outputs": [],
   "source": []
  }
 ],
 "metadata": {
  "kernelspec": {
   "display_name": "Python 3 (ipykernel)",
   "language": "python",
   "name": "python3"
  },
  "language_info": {
   "codemirror_mode": {
    "name": "ipython",
    "version": 3
   },
   "file_extension": ".py",
   "mimetype": "text/x-python",
   "name": "python",
   "nbconvert_exporter": "python",
   "pygments_lexer": "ipython3",
   "version": "3.11.3"
  }
 },
 "nbformat": 4,
 "nbformat_minor": 5
}
