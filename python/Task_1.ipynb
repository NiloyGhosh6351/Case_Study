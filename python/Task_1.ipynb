{
 "cells": [
  {
   "cell_type": "code",
   "execution_count": 1,
   "id": "88975be3",
   "metadata": {},
   "outputs": [],
   "source": [
    "import json\n",
    "import os \n",
    "from pprint import pprint\n",
    "formattedDirectoryPath = \"./formattedData\"\n",
    "if not os.path.exists(formattedDirectoryPath):\n",
    "    os.makedirs(formattedDirectoryPath)\n",
    "\n",
    "totalFile=os.listdir('./data')\n",
    "totalFormatted=[]\n",
    "for fileName in totalFile:\n",
    "    file=open('data/'+fileName)\n",
    "    data=json.load(file)\n",
    "\n",
    "    formated_String={ \"dataset_name\":fileName,\n",
    "            \"image_link\": \"\",\n",
    "            \"annotation_type\": \"image\",\n",
    "            \"annotation_objects\": {\n",
    "                \"vehicle\": {\n",
    "                    \"presence\": 0,\n",
    "                    \"bbox\": []\n",
    "                },\n",
    "                \"license_plate\": {\n",
    "                    \"presence\": 0,\n",
    "                    \"bbox\": []\n",
    "                }\n",
    "            },\n",
    "            \"annotation_attributes\": {\n",
    "                \"vehicle\": {\n",
    "                    \"Type\": None,\n",
    "                    \"Pose\": None,\n",
    "                    \"Model\": None,\n",
    "                    \"Make\": None,\n",
    "                    \"Color\": None\n",
    "                },\n",
    "                \"license_plate\": {\n",
    "                    \"Difficulty Score\": None,\n",
    "                    \"Value\": None,\n",
    "                    \"Occlusion\": None\n",
    "                }\n",
    "            }}\n",
    "    if len(data['objects'])>0:\n",
    "        for j in range(2):\n",
    "            for i in data['objects'][0]['points']['exterior'][j]:\n",
    "                formated_String['annotation_objects']['vehicle']['bbox'].append(i)\n",
    "        for i in data['objects'][0]['tags']:\n",
    "            formated_String['annotation_attributes']['vehicle'][i['name']]=i['value']\n",
    "    \n",
    "    if len(data['objects'])>1:\n",
    "        for j in range(2):\n",
    "            for i in data['objects'][1]['points']['exterior'][j]:\n",
    "                formated_String['annotation_objects']['license_plate']['bbox'].append(i)\n",
    "        for i in data['objects'][1]['tags']:\n",
    "            formated_String['annotation_attributes']['license_plate'][i['name']]=i['value']\n",
    "    vehicleFlag=False\n",
    "    licensePlateFlag=False\n",
    "    for i in data['objects']:\n",
    "        if i['classTitle']=='Vehicle':\n",
    "            vehicleFlag=True\n",
    "        if i['classTitle']=='License Plate':\n",
    "            licensePlateFlag=True\n",
    "    if vehicleFlag:\n",
    "        formated_String['annotation_objects']['vehicle']['presence']=1\n",
    "    if licensePlateFlag:\n",
    "        formated_String['annotation_objects']['license_plate']['presence']=1\n",
    "    file_path = os.path.join(formattedDirectoryPath, 'formatted_'+fileName)\n",
    "    with open(file_path, \"w\") as file:\n",
    "        json.dump(formated_String,file)\n",
    "    #totalFormatted.append(formated_String)"
   ]
  },
  {
   "cell_type": "markdown",
   "id": "b0ea92ab",
   "metadata": {},
   "source": [
    "# IMPORT DATA"
   ]
  },
  {
   "cell_type": "code",
   "execution_count": 5,
   "id": "5c84b363",
   "metadata": {},
   "outputs": [
    {
     "data": {
      "text/plain": [
       "3"
      ]
     },
     "execution_count": 5,
     "metadata": {},
     "output_type": "execute_result"
    }
   ],
   "source": [
    "import os \n",
    "totalFile=os.listdir('./data')\n",
    "totalFormatted=[]\n",
    "len(totalFile)"
   ]
  },
  {
   "cell_type": "code",
   "execution_count": 16,
   "id": "8b49ab33",
   "metadata": {},
   "outputs": [],
   "source": [
    "with open('test.json', \"w\") as file:\n",
    "    json.dump(totalFormatted, file)"
   ]
  },
  {
   "cell_type": "code",
   "execution_count": null,
   "id": "0b0d8b85",
   "metadata": {},
   "outputs": [],
   "source": [
    "import json\n",
    "file=open('pos_0.png.json')\n",
    "data=json.load(file)"
   ]
  },
  {
   "cell_type": "markdown",
   "id": "87d8b970",
   "metadata": {},
   "source": [
    "# Creating formatted Json"
   ]
  },
  {
   "cell_type": "code",
   "execution_count": 2,
   "id": "706fc1ee",
   "metadata": {},
   "outputs": [],
   "source": [
    "formated_String={ \"dataset_name\": \"pos_0.png.json\",\n",
    "        \"image_link\": \"\",\n",
    "        \"annotation_type\": \"image\",\n",
    "        \"annotation_objects\": {\n",
    "            \"vehicle\": {\n",
    "                \"presence\": 0,\n",
    "                \"bbox\": []\n",
    "            },\n",
    "            \"license_plate\": {\n",
    "                \"presence\": 0,\n",
    "                \"bbox\": []\n",
    "            }\n",
    "        },\n",
    "        \"annotation_attributes\": {\n",
    "            \"vehicle\": {\n",
    "                \"Type\": None,\n",
    "                \"Pose\": None,\n",
    "                \"Model\": None,\n",
    "                \"Make\": None,\n",
    "                \"Color\": None\n",
    "            },\n",
    "            \"license_plate\": {\n",
    "                \"Difficulty Score\": None,\n",
    "                \"Value\": None,\n",
    "                \"Occlusion\": None\n",
    "            }\n",
    "        }}\n"
   ]
  },
  {
   "cell_type": "markdown",
   "id": "aac673ab",
   "metadata": {},
   "source": [
    "# BBOX FOR VEHICLE"
   ]
  },
  {
   "cell_type": "code",
   "execution_count": 3,
   "id": "54727258",
   "metadata": {},
   "outputs": [],
   "source": [
    "for j in range(2):\n",
    "    for i in data['objects'][0]['points']['exterior'][j]:\n",
    "        formated_String['annotation_objects']['vehicle']['bbox'].append(i)\n"
   ]
  },
  {
   "cell_type": "markdown",
   "id": "c8805717",
   "metadata": {},
   "source": [
    "# BBOX FOR LICENSE PLATE"
   ]
  },
  {
   "cell_type": "code",
   "execution_count": 4,
   "id": "ad626233",
   "metadata": {},
   "outputs": [],
   "source": [
    "for j in range(2):\n",
    "    for i in data['objects'][1]['points']['exterior'][j]:\n",
    "        formated_String['annotation_objects']['license_plate']['bbox'].append(i)"
   ]
  },
  {
   "cell_type": "markdown",
   "id": "9ffc4410",
   "metadata": {},
   "source": [
    "# ADDING VEHICLE TAGS"
   ]
  },
  {
   "cell_type": "code",
   "execution_count": 5,
   "id": "ae8a49ad",
   "metadata": {},
   "outputs": [],
   "source": [
    "for i in data['objects'][0]['tags']:\n",
    "    formated_String['annotation_attributes']['vehicle'][i['name']]=i['value']"
   ]
  },
  {
   "cell_type": "markdown",
   "id": "c26deb75",
   "metadata": {},
   "source": [
    "# ADDING LICENSE PLATE TAGS"
   ]
  },
  {
   "cell_type": "code",
   "execution_count": 6,
   "id": "075262cb",
   "metadata": {},
   "outputs": [],
   "source": [
    "for i in data['objects'][1]['tags']:\n",
    "    formated_String['annotation_attributes']['license_plate'][i['name']]=i['value']"
   ]
  },
  {
   "cell_type": "markdown",
   "id": "cf3e1e4a",
   "metadata": {},
   "source": [
    "# ADDING PRESENCE"
   ]
  },
  {
   "cell_type": "code",
   "execution_count": 7,
   "id": "87ad41cb",
   "metadata": {},
   "outputs": [],
   "source": [
    "vehicleFlag=False\n",
    "licensePlateFlag=False\n",
    "for i in data['objects']:\n",
    "    if i['classTitle']=='Vehicle':\n",
    "        vehicleFlag=True\n",
    "    if i['classTitle']=='License Plate':\n",
    "        licensePlateFlag=True\n",
    "if vehicleFlag:\n",
    "    formated_String['annotation_objects']['vehicle']['presence']=1\n",
    "if licensePlateFlag:\n",
    "    formated_String['annotation_objects']['license_plate']['presence']=1"
   ]
  },
  {
   "cell_type": "code",
   "execution_count": 8,
   "id": "e31ca33f",
   "metadata": {},
   "outputs": [
    {
     "name": "stdout",
     "output_type": "stream",
     "text": [
      "{'annotation_attributes': {'license_plate': {'Difficulty Score': '0',\n",
      "                                             'Occlusion': None,\n",
      "                                             'Value': 'CA, 7LVS119'},\n",
      "                           'vehicle': {'Color': 'Silver',\n",
      "                                       'Make': 'Lexus',\n",
      "                                       'Model': 'UN',\n",
      "                                       'Pose': 'Rear',\n",
      "                                       'Type': 'SUV'}},\n",
      " 'annotation_objects': {'license_plate': {'bbox': [535, 158, 622, 213],\n",
      "                                          'presence': 1},\n",
      "                        'vehicle': {'bbox': [396, 3, 773, 314], 'presence': 1}},\n",
      " 'annotation_type': 'image',\n",
      " 'dataset_name': 'pos_0.png.json',\n",
      " 'image_link': ''}\n"
     ]
    }
   ],
   "source": [
    "from pprint import pprint\n",
    "pprint(formated_String)"
   ]
  },
  {
   "cell_type": "code",
   "execution_count": 13,
   "id": "b9c511f3",
   "metadata": {},
   "outputs": [
    {
     "data": {
      "text/plain": [
       "['pos_0.png.json', 'pos_10010.png.json', 'pos_10492.png.json']"
      ]
     },
     "execution_count": 13,
     "metadata": {},
     "output_type": "execute_result"
    }
   ],
   "source": [
    "import os \n",
    "os.listdir('./data')"
   ]
  },
  {
   "cell_type": "code",
   "execution_count": null,
   "id": "92b6a77d",
   "metadata": {},
   "outputs": [],
   "source": []
  }
 ],
 "metadata": {
  "kernelspec": {
   "display_name": "Python 3 (ipykernel)",
   "language": "python",
   "name": "python3"
  },
  "language_info": {
   "codemirror_mode": {
    "name": "ipython",
    "version": 3
   },
   "file_extension": ".py",
   "mimetype": "text/x-python",
   "name": "python",
   "nbconvert_exporter": "python",
   "pygments_lexer": "ipython3",
   "version": "3.9.0"
  }
 },
 "nbformat": 4,
 "nbformat_minor": 5
}
